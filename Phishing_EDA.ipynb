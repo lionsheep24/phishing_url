{
 "cells": [
  {
   "cell_type": "code",
   "execution_count": 182,
   "metadata": {},
   "outputs": [],
   "source": [
    "from scipy import sparse\n",
    "from sklearn.model_selection import train_test_split\n",
    "from xgboost import XGBClassifier\n",
    "import tensorflow as tf\n",
    "import re\n",
    "from sklearn.metrics import confusion_matrix"
   ]
  },
  {
   "cell_type": "code",
   "execution_count": 183,
   "metadata": {},
   "outputs": [],
   "source": [
    "benign = pd.read_csv('./url_0.csv').sample(n = 44999, random_state = 2019)\n",
    "phishing = pd.read_csv('./url_1.csv') "
   ]
  },
  {
   "cell_type": "code",
   "execution_count": 184,
   "metadata": {},
   "outputs": [],
   "source": [
    "benign = pd.DataFrame(benign)\n",
    "benign = pd.DataFrame({'url' : benign['http://www.liquidgeneration.com/'], 'cat' : benign.Adult})\n",
    "benign = benign.append(pd.Series(['http://www.liquidgeneration.com/','Adult'],index=benign.columns),ignore_index=True)\n",
    "phishing = pd.DataFrame(phishing)"
   ]
  },
  {
   "cell_type": "code",
   "execution_count": 185,
   "metadata": {},
   "outputs": [
    {
     "data": {
      "text/plain": [
       "((45000, 2), (15261, 8))"
      ]
     },
     "execution_count": 185,
     "metadata": {},
     "output_type": "execute_result"
    }
   ],
   "source": [
    "benign.shape, phishing.shape"
   ]
  },
  {
   "cell_type": "code",
   "execution_count": 186,
   "metadata": {
    "scrolled": false
   },
   "outputs": [],
   "source": [
    "benign = benign.drop(columns = ['cat'])\n",
    "phishing = phishing.drop(columns = ['phish_id','submission_time','verified','phish_detail_url',\n",
    "                                  'verification_time','online','target'])"
   ]
  },
  {
   "cell_type": "code",
   "execution_count": 187,
   "metadata": {},
   "outputs": [],
   "source": [
    "benign['label'] = 0\n",
    "phishing['label'] = 1"
   ]
  },
  {
   "cell_type": "code",
   "execution_count": 188,
   "metadata": {},
   "outputs": [],
   "source": [
    "df = pd.concat([benign,phishing]).reset_index(drop = 'True')"
   ]
  },
  {
   "cell_type": "markdown",
   "metadata": {},
   "source": [
    "# Feature Eng'ring\n",
    " - Digit Count of URL\n",
    " - URL 길이\n",
    " - Checking URL is Typosquatted or not (google.com --> goggle.com)\n",
    " - Subdomain 개수\n",
    " - Top level Domain 이 자주 쓰이는 Domain인가?\n",
    " - 등록후 지난 일수\n",
    " - http:// or https://\n",
    " - #of http:// or https://\n",
    " - 특수문자(#, =, /,&)\n",
    " - com 개수"
   ]
  },
  {
   "cell_type": "code",
   "execution_count": 189,
   "metadata": {},
   "outputs": [],
   "source": [
    " df['length'] = df.url.str.len()"
   ]
  },
  {
   "cell_type": "code",
   "execution_count": 190,
   "metadata": {},
   "outputs": [],
   "source": [
    "df['sharp'] = (df.url.str.count('#'))\n",
    "df['equal'] = (df.url.str.count('='))\n",
    "df['slash'] = ((df.url.str.count('/')) - 2)\n",
    "df['dbleslash'] = (df.url.str.count('//')) - 1\n",
    "df['question'] = (df.url.str.count('\\?'))\n",
    "df['com'] = (df.url.str.count('.com'))\n",
    "df['dot'] = (df.url.str.count('\\.'))\n",
    "df['protocols'] = (df.url.str.count('https://') + df.url.str.count('http://'))\n",
    "df['comma'] = (df.url.str.count('\\,'))"
   ]
  },
  {
   "cell_type": "code",
   "execution_count": 191,
   "metadata": {},
   "outputs": [],
   "source": [
    "gb  = df.groupby(by = df.label).mean()"
   ]
  },
  {
   "cell_type": "code",
   "execution_count": 192,
   "metadata": {},
   "outputs": [
    {
     "data": {
      "text/html": [
       "<div>\n",
       "<style scoped>\n",
       "    .dataframe tbody tr th:only-of-type {\n",
       "        vertical-align: middle;\n",
       "    }\n",
       "\n",
       "    .dataframe tbody tr th {\n",
       "        vertical-align: top;\n",
       "    }\n",
       "\n",
       "    .dataframe thead th {\n",
       "        text-align: right;\n",
       "    }\n",
       "</style>\n",
       "<table border=\"1\" class=\"dataframe\">\n",
       "  <thead>\n",
       "    <tr style=\"text-align: right;\">\n",
       "      <th></th>\n",
       "      <th>label</th>\n",
       "      <th>length</th>\n",
       "      <th>sharp</th>\n",
       "      <th>equal</th>\n",
       "      <th>slash</th>\n",
       "      <th>dbleslash</th>\n",
       "      <th>question</th>\n",
       "      <th>com</th>\n",
       "      <th>dot</th>\n",
       "      <th>protocols</th>\n",
       "      <th>comma</th>\n",
       "    </tr>\n",
       "    <tr>\n",
       "      <th>label</th>\n",
       "      <th></th>\n",
       "      <th></th>\n",
       "      <th></th>\n",
       "      <th></th>\n",
       "      <th></th>\n",
       "      <th></th>\n",
       "      <th></th>\n",
       "      <th></th>\n",
       "      <th></th>\n",
       "      <th></th>\n",
       "      <th></th>\n",
       "    </tr>\n",
       "  </thead>\n",
       "  <tbody>\n",
       "    <tr>\n",
       "      <th>0</th>\n",
       "      <td>0.0</td>\n",
       "      <td>35.809978</td>\n",
       "      <td>0.000978</td>\n",
       "      <td>0.052956</td>\n",
       "      <td>1.474444</td>\n",
       "      <td>0.000689</td>\n",
       "      <td>0.034044</td>\n",
       "      <td>0.678333</td>\n",
       "      <td>2.337178</td>\n",
       "      <td>0.999622</td>\n",
       "      <td>0.000000</td>\n",
       "    </tr>\n",
       "    <tr>\n",
       "      <th>1</th>\n",
       "      <td>1.0</td>\n",
       "      <td>75.852041</td>\n",
       "      <td>0.008322</td>\n",
       "      <td>0.535548</td>\n",
       "      <td>3.084726</td>\n",
       "      <td>0.016185</td>\n",
       "      <td>0.244283</td>\n",
       "      <td>0.750999</td>\n",
       "      <td>2.545049</td>\n",
       "      <td>1.011336</td>\n",
       "      <td>0.008977</td>\n",
       "    </tr>\n",
       "  </tbody>\n",
       "</table>\n",
       "</div>"
      ],
      "text/plain": [
       "       label     length     sharp     equal     slash  dbleslash  question  \\\n",
       "label                                                                        \n",
       "0        0.0  35.809978  0.000978  0.052956  1.474444   0.000689  0.034044   \n",
       "1        1.0  75.852041  0.008322  0.535548  3.084726   0.016185  0.244283   \n",
       "\n",
       "            com       dot  protocols     comma  \n",
       "label                                           \n",
       "0      0.678333  2.337178   0.999622  0.000000  \n",
       "1      0.750999  2.545049   1.011336  0.008977  "
      ]
     },
     "execution_count": 192,
     "metadata": {},
     "output_type": "execute_result"
    }
   ],
   "source": [
    "gb"
   ]
  },
  {
   "cell_type": "markdown",
   "metadata": {},
   "source": [
    "# Feature Importance"
   ]
  },
  {
   "cell_type": "code",
   "execution_count": 193,
   "metadata": {},
   "outputs": [
    {
     "data": {
      "text/plain": [
       "XGBClassifier(base_score=0.5, booster='gbtree', colsample_bylevel=1,\n",
       "              colsample_bynode=1, colsample_bytree=1, gamma=0,\n",
       "              learning_rate=0.1, max_delta_step=0, max_depth=3,\n",
       "              min_child_weight=1, missing=None, n_estimators=100, n_jobs=1,\n",
       "              nthread=None, objective='binary:logistic', random_state=0,\n",
       "              reg_alpha=0, reg_lambda=1, scale_pos_weight=1, seed=None,\n",
       "              silent=None, subsample=1, verbosity=1)"
      ]
     },
     "execution_count": 193,
     "metadata": {},
     "output_type": "execute_result"
    }
   ],
   "source": [
    "model = XGBClassifier()\n",
    "model.fit(df.drop(columns = ['url','label']), df.label)"
   ]
  },
  {
   "cell_type": "code",
   "execution_count": 194,
   "metadata": {},
   "outputs": [
    {
     "data": {
      "text/plain": [
       "Index(['url', 'label', 'length', 'sharp', 'equal', 'slash', 'dbleslash',\n",
       "       'question', 'com', 'dot', 'protocols', 'comma'],\n",
       "      dtype='object')"
      ]
     },
     "execution_count": 194,
     "metadata": {},
     "output_type": "execute_result"
    }
   ],
   "source": [
    "df.columns"
   ]
  },
  {
   "cell_type": "code",
   "execution_count": 195,
   "metadata": {},
   "outputs": [
    {
     "name": "stdout",
     "output_type": "stream",
     "text": [
      "[0.4348016  0.02832716 0.03409005 0.07396687 0.04464323 0.02885386\n",
      " 0.08180476 0.23030968 0.02994067 0.01326214]\n"
     ]
    },
    {
     "data": {
      "image/png": "[encoded data removed]",
      "text/plain": [
       "<Figure size 432x288 with 1 Axes>"
      ]
     },
     "metadata": {
      "needs_background": "dark"
     },
     "output_type": "display_data"
    }
   ],
   "source": [
    "print(model.feature_importances_)\n",
    "# plot\n",
    "plt.bar(range(len(model.feature_importances_)), model.feature_importances_)\n",
    "plt.show()"
   ]
  },
  {
   "cell_type": "markdown",
   "metadata": {},
   "source": [
    "# Top Level Domain / Sub Domain "
   ]
  },
  {
   "cell_type": "code",
   "execution_count": 196,
   "metadata": {},
   "outputs": [],
   "source": [
    "tld = df.url.str.rpartition('.')[2]\n",
    "tld = tld.str.replace('\\/','')\n",
    "subdomain = df.url.str.rpartition('.')[0]\n",
    "subdomain = subdomain.str.rpartition('.')[2].str.replace('http://','').replace('https://','')"
   ]
  },
  {
   "cell_type": "markdown",
   "metadata": {},
   "source": [
    "# 문자열 전처리"
   ]
  },
  {
   "cell_type": "code",
   "execution_count": 197,
   "metadata": {},
   "outputs": [],
   "source": [
    "df = df.dropna()"
   ]
  },
  {
   "cell_type": "code",
   "execution_count": 198,
   "metadata": {},
   "outputs": [],
   "source": [
    "from sklearn.feature_extraction.text import TfidfVectorizer\n",
    "from sklearn.feature_extraction.text import CountVectorizer"
   ]
  },
  {
   "cell_type": "code",
   "execution_count": 199,
   "metadata": {},
   "outputs": [],
   "source": [
    "words = df.url.str.split(r'[/|.]').apply(lambda x : \" \".join(x))"
   ]
  },
  {
   "cell_type": "code",
   "execution_count": 200,
   "metadata": {
    "scrolled": true
   },
   "outputs": [
    {
     "data": {
      "text/plain": [
       "((60261, 10000), (60261, 10))"
      ]
     },
     "execution_count": 200,
     "metadata": {},
     "output_type": "execute_result"
    }
   ],
   "source": [
    "vectorizer = TfidfVectorizer(lowercase = 'False', max_features = 10000, \n",
    "                             token_pattern = '(([\\w!@#$%^&*\\(\\)_\\+\\-\\={}\\|[\\]:\";\\'<>?,./])+)' )\n",
    "X = vectorizer.fit(words)\n",
    "feat = X.get_feature_names()\n",
    "X = vectorizer.transform(words)\n",
    "X.shape, df.drop(columns = ['url','label']).shape"
   ]
  },
  {
   "cell_type": "code",
   "execution_count": 201,
   "metadata": {},
   "outputs": [
    {
     "name": "stdout",
     "output_type": "stream",
     "text": [
      "<re.Match object; span=(0, 23), match='!@#$%^||||+_)AACVBscfsf'>\n"
     ]
    }
   ],
   "source": [
    "a = '!@#$%^||||+_)AACVBscfsf'\n",
    "b = re.match('(([\\w!@#$%^&*\\(\\)_\\+\\-\\={}\\|[\\]:\";\\'<>?,./])+)', a)\n",
    "print(b)"
   ]
  },
  {
   "cell_type": "code",
   "execution_count": 202,
   "metadata": {},
   "outputs": [],
   "source": [
    "X_train = sparse.hstack([df.drop(columns = ['url','label']), X]).tocsr()\n",
    "y_train = df.label"
   ]
  },
  {
   "cell_type": "code",
   "execution_count": 203,
   "metadata": {},
   "outputs": [],
   "source": [
    "import tensorflow as tf"
   ]
  },
  {
   "cell_type": "code",
   "execution_count": 204,
   "metadata": {},
   "outputs": [],
   "source": [
    "X_train, X_test, y_train, y_test = train_test_split(X_train, y_train, test_size=0.2, random_state=2019)"
   ]
  },
  {
   "cell_type": "code",
   "execution_count": 205,
   "metadata": {},
   "outputs": [
    {
     "data": {
      "text/plain": [
       "(10010,)"
      ]
     },
     "execution_count": 205,
     "metadata": {},
     "output_type": "execute_result"
    }
   ],
   "source": [
    "X_train.shape[1:]"
   ]
  },
  {
   "cell_type": "code",
   "execution_count": 206,
   "metadata": {},
   "outputs": [
    {
     "data": {
      "text/plain": [
       "(1,\n",
       " 2,\n",
       " 5,\n",
       " 7,\n",
       " 10,\n",
       " 11,\n",
       " 13,\n",
       " 14,\n",
       " 22,\n",
       " 26,\n",
       " 35,\n",
       " 55,\n",
       " 65,\n",
       " 70,\n",
       " 77,\n",
       " 91,\n",
       " 110,\n",
       " 130,\n",
       " 143,\n",
       " 154,\n",
       " 182,\n",
       " 286,\n",
       " 385,\n",
       " 455,\n",
       " 715,\n",
       " 770,\n",
       " 910,\n",
       " 1001,\n",
       " 1430,\n",
       " 2002,\n",
       " 5005,\n",
       " 10010)"
      ]
     },
     "execution_count": 206,
     "metadata": {},
     "output_type": "execute_result"
    }
   ],
   "source": [
    "1,2,5,7,10,11,13,14,22,26,35,55,65,70,77,91,110,130,143,154,182,286,385,455,715,770,910,1001,1430,2002,5005,10010"
   ]
  },
  {
   "cell_type": "code",
   "execution_count": 208,
   "metadata": {},
   "outputs": [
    {
     "name": "stdout",
     "output_type": "stream",
     "text": [
      "_________________________________________________________________\n",
      "Layer (type)                 Output Shape              Param #   \n",
      "=================================================================\n",
      "input_14 (InputLayer)        (None, 10010)             0         \n",
      "_________________________________________________________________\n",
      "reshape_13 (Reshape)         (None, 110, 91, 1)        0         \n",
      "_________________________________________________________________\n",
      "time_distributed_60 (TimeDis (None, 110, 91, 20)       60        \n",
      "_________________________________________________________________\n",
      "time_distributed_61 (TimeDis (None, 110, 45, 20)       0         \n",
      "_________________________________________________________________\n",
      "time_distributed_62 (TimeDis (None, 110, 900)          0         \n",
      "_________________________________________________________________\n",
      "dropout_25 (Dropout)         (None, 110, 900)          0         \n",
      "_________________________________________________________________\n",
      "gru_25 (GRU)                 (None, 110, 128)          395136    \n",
      "_________________________________________________________________\n",
      "gru_26 (GRU)                 (None, 128)               98688     \n",
      "_________________________________________________________________\n",
      "dropout_26 (Dropout)         (None, 128)               0         \n",
      "_________________________________________________________________\n",
      "dense_24 (Dense)             (None, 32)                4128      \n",
      "_________________________________________________________________\n",
      "dense_25 (Dense)             (None, 2)                 66        \n",
      "=================================================================\n",
      "Total params: 498,078\n",
      "Trainable params: 498,078\n",
      "Non-trainable params: 0\n",
      "_________________________________________________________________\n"
     ]
    }
   ],
   "source": [
    "c_input = tf.keras.Input(shape=(X_train.shape[1:]))\n",
    "H = tf.keras.layers.Reshape((110, int(X_train.shape[1]/110), 1))(c_input)\n",
    "#H = tf.keras.layers.TimeDistributed(tf.keras.layers.Conv1D(filters=20, kernel_size=(2), padding='same', activation='tanh'))(H)\n",
    "#H = tf.keras.layers.TimeDistributed(tf.keras.layers.MaxPooling1D(2))(H)\n",
    "#H = tf.keras.layers.TimeDistributed(tf.keras.layers.Conv1D(filters=20, kernel_size=(2), padding='same', activation='tanh'))(H)\n",
    "#H = tf.keras.layers.TimeDistributed(tf.keras.layers.MaxPooling1D(2))(H)\n",
    "H = tf.keras.layers.TimeDistributed(tf.keras.layers.Conv1D(filters=20, kernel_size=(2), padding='same', activation='tanh'))(H)\n",
    "H = tf.keras.layers.TimeDistributed(tf.keras.layers.MaxPooling1D(2))(H)\n",
    "H = tf.keras.layers.TimeDistributed(tf.keras.layers.Flatten())(H)\n",
    "H = tf.keras.layers.Dropout(0.5)(H)\n",
    "#H CuDNNGRU(256, recurrent_dropout=0.5, unroll=True, return_sequences=True)(H)\n",
    "#H = GRU(256, recurrent_dropout=0.5, unroll=True, return_sequences=False, go_backwards=True)(H)\n",
    "H = tf.keras.layers.GRU(128, return_sequences=True)(H)\n",
    "H = tf.keras.layers.GRU(128, return_sequences=False, go_backwards=True)(H)\n",
    "H = tf.keras.layers.Dropout(rate=0.5)(H)\n",
    "H = tf.keras.layers.Dense(32, activation='tanh')(H)\n",
    "c_output = tf.keras.layers.Dense(2, activation='softmax')(H)\n",
    "model_cnn_lstm = tf.keras.Model(c_input, c_output)\n",
    "model_cnn_lstm.summary()\n",
    "# model_cnn_lstm = multi_gpu_model(model_cnn_lstm, gpus=4)"
   ]
  },
  {
   "cell_type": "code",
   "execution_count": 209,
   "metadata": {},
   "outputs": [],
   "source": [
    "def plot_history(model_input, mode='loss', val_mode=True, title='Entropy'):\n",
    "    history = model_input.history\n",
    "    if(val_mode):\n",
    "        plt.plot(history.history[mode])\n",
    "        plt.plot(history.history['val_'+mode])\n",
    "        plt.title(title)\n",
    "        plt.legend(['train', 'test'], loc='upper right')\n",
    "        plt.show()\n",
    "    else:\n",
    "        plt.plot(history.history[mode])\n",
    "        plt.title(title)\n",
    "        plt.legend(['train'], loc='upper right')\n",
    "        plt.show()"
   ]
  },
  {
   "cell_type": "code",
   "execution_count": null,
   "metadata": {},
   "outputs": [],
   "source": [
    "def wrapped_confusion_matrix(modelInput, feature, label, class_list=[\"first\", \"second\"], normalize=False, fig_size=(5,5)):\n",
    "    pred = modelInput.predict(feature)\n",
    "    cnf_matrix = confusion_matrix(np.argmax(label, axis=1), np.argmax(pred, axis=1))\n",
    "    np.set_printoptions(precision=2)\n",
    "    plt.figure(figsize=fig_size) \n",
    "    plt.imshow(cnf_matrix, interpolation='nearest', cmap=plt.cm.Blues)\n",
    "    plt.title('Confusion Matrix')\n",
    "    plt.xticks(np.arange(len(class_list)), class_list, rotation=45)\n",
    "    plt.yticks(np.arange(len(class_list)), class_list)\n",
    "    if(normalize):\n",
    "        cnf_matrix = cnf_matrix.astype('float') / cnf_matrix.sum(axis=1)[:, np.newaxis]\n",
    "    thresh = cnf_matrix.max() / 2.\n",
    "    for i, j in itertools.product(range(cnf_matrix.shape[0]), range(cnf_matrix.shape[1])):\n",
    "        plt.text(j, i, cnf_matrix[i, j],\n",
    "                 horizontalalignment='center',\n",
    "                 color='white' if cnf_matrix[i, j] > thresh else 'black')\n",
    "    plt.tight_layout()\n",
    "    plt.ylabel('True label')\n",
    "    plt.xlabel('Predicted label')\n",
    "    plt.show()\n",
    "def plot_history(model_input, mode='loss', val_mode=True, title='Entropy'):\n",
    "    history = model_input.history\n",
    "    if(val_mode):\n",
    "        plt.plot(history.history[mode])\n",
    "        plt.plot(history.history['val_'+mode])\n",
    "        plt.title(title)\n",
    "        plt.legend(['train', 'test'], loc='upper right')\n",
    "        plt.show()\n",
    "    else:\n",
    "        plt.plot(history.history[mode])\n",
    "        plt.title(title)\n",
    "        plt.legend(['train'], loc='upper right')\n",
    "        plt.show()"
   ]
  },
  {
   "cell_type": "code",
   "execution_count": 210,
   "metadata": {},
   "outputs": [],
   "source": [
    "from keras.utils.np_utils import to_categorical\n",
    "y_train = to_categorical(y_train)\n",
    "y_test = to_categorical(y_test)"
   ]
  },
  {
   "cell_type": "code",
   "execution_count": null,
   "metadata": {},
   "outputs": [
    {
     "name": "stdout",
     "output_type": "stream",
     "text": [
      "Train on 48208 samples, validate on 12053 samples\n",
      "Epoch 1/50\n",
      " - 705s - loss: 0.3909 - acc: 0.8376 - val_loss: 0.3655 - val_acc: 0.8535\n",
      "Epoch 2/50\n",
      " - 689s - loss: 0.3903 - acc: 0.8369 - val_loss: 0.3632 - val_acc: 0.8554\n",
      "Epoch 3/50\n"
     ]
    }
   ],
   "source": [
    "%%time\n",
    "adam = tf.keras.optimizers.Adam(lr = 1e-04)\n",
    "es = tf.keras.callbacks.EarlyStopping(monitor = 'val_loss', patience=5, mode='auto', restore_best_weights=True)\n",
    "model_cnn_lstm.compile(loss='categorical_crossentropy', optimizer=adam, metrics=['acc'])\n",
    "history = model_cnn_lstm.fit(X_train, y_train, validation_data=(X_test, y_test), epochs=50, batch_size=500, verbose=2, shuffle=True, callbacks=[es])\n",
    "plot_history(model_cnn_lstm, mode='loss', title='Categorical Crossentropy')\n",
    "plot_history(model_cnn_lstm, mode='acc', title='Accuracy')"
   ]
  },
  {
   "cell_type": "code",
   "execution_count": 64,
   "metadata": {},
   "outputs": [
    {
     "data": {
      "text/plain": [
       "(48208, 82313)"
      ]
     },
     "execution_count": 64,
     "metadata": {},
     "output_type": "execute_result"
    }
   ],
   "source": [
    "X_train.shape"
   ]
  },
  {
   "cell_type": "code",
   "execution_count": 194,
   "metadata": {},
   "outputs": [],
   "source": []
  }
 ],
 "metadata": {
  "kernelspec": {
   "display_name": "Python 3",
   "language": "python",
   "name": "python3"
  },
  "language_info": {
   "codemirror_mode": {
    "name": "ipython",
    "version": 3
   },
   "file_extension": ".py",
   "mimetype": "text/x-python",
   "name": "python",
   "nbconvert_exporter": "python",
   "pygments_lexer": "ipython3",
   "version": "3.7.1"
  }
 },
 "nbformat": 4,
 "nbformat_minor": 2
}
